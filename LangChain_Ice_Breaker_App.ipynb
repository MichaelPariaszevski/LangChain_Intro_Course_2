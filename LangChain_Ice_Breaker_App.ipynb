{
 "cells": [
  {
   "cell_type": "markdown",
   "metadata": {},
   "source": [
    "### Creating an ice_breaker Application using LangChain, Linkedin, and Twitter"
   ]
  },
  {
   "cell_type": "code",
   "execution_count": 3,
   "metadata": {},
   "outputs": [
    {
     "name": "stdout",
     "output_type": "stream",
     "text": [
      "Hello!\n",
      "sk-proj-cBDTEBcdEJoOeRvBnTD6T3BlbkFJGFlUrwXRqqMbC9bLUJzc\n"
     ]
    }
   ],
   "source": [
    "import os\n",
    "from dotenv import load_dotenv, find_dotenv\n",
    "\n",
    "if __name__==\"__main__\": \n",
    "    print(\"Hello!\")\n",
    "    load_dotenv(find_dotenv(), override=True)\n",
    "    print(os.environ[\"OPENAI_API_KEY\"])"
   ]
  },
  {
   "cell_type": "code",
   "execution_count": 5,
   "metadata": {},
   "outputs": [],
   "source": [
    "from langchain.prompts.prompt import PromptTemplate \n",
    "from langchain_openai import ChatOpenAI \n",
    "from langchain.chains import LLMChain"
   ]
  },
  {
   "cell_type": "code",
   "execution_count": 6,
   "metadata": {},
   "outputs": [],
   "source": [
    "from third_parties.linkedin import scrape_linkedin_profile"
   ]
  },
  {
   "cell_type": "code",
   "execution_count": 7,
   "metadata": {},
   "outputs": [
    {
     "name": "stdout",
     "output_type": "stream",
     "text": [
      "content='1. Short Summary:\\nEden Marco is a Customer Engineer at Google, based in Tel Aviv, Israel. He is also a best-selling Udemy instructor with a background in backend development.\\n\\n2. Two Interesting Facts:\\n- Eden has produced and published two best-selling courses on the Udemy platform, with over 9,000 enrolled students and a solid 4.7-star rating.\\n- Prior to his current role, Eden served as a Captain in the Israel Defense Forces, showcasing his leadership skills and experience in a high-pressure environment.' response_metadata={'token_usage': {'completion_tokens': 108, 'prompt_tokens': 2438, 'total_tokens': 2546}, 'model_name': 'gpt-3.5-turbo-0125', 'system_fingerprint': None, 'finish_reason': 'stop', 'logprobs': None} id='run-e2a4dcbc-b932-4c41-ab0e-41adab448ec4-0' usage_metadata={'input_tokens': 2438, 'output_tokens': 108, 'total_tokens': 2546}\n",
      "----------------------------------------------------------------------------------------------------\n",
      "1. Short Summary:\n",
      "Eden Marco is a Customer Engineer at Google, based in Tel Aviv, Israel. He is also a best-selling Udemy instructor with a background in backend development.\n",
      "\n",
      "2. Two Interesting Facts:\n",
      "- Eden has produced and published two best-selling courses on the Udemy platform, with over 9,000 enrolled students and a solid 4.7-star rating.\n",
      "- Prior to his current role, Eden served as a Captain in the Israel Defense Forces, showcasing his leadership skills and experience in a high-pressure environment.\n"
     ]
    }
   ],
   "source": [
    "# The new method/way of creating chains \n",
    "\n",
    "summary_template_new=\"\"\"\n",
    "Given the Linkedin information: {linkedin_information} about a person, I want you to create: \n",
    "1. a short summary \n",
    "2. two interesting facts about them\n",
    "\"\"\"\n",
    "\n",
    "summary_prompt_template_new=PromptTemplate(\n",
    "    input_variables=[\"information\"], \n",
    "    template=summary_template_new\n",
    "    )\n",
    "\n",
    "llm_new=ChatOpenAI(model_name=\"gpt-3.5-turbo\", temperature=0) \n",
    "\n",
    "chain_2=summary_prompt_template_new | llm_new\n",
    "\n",
    "linkedin_information=scrape_linkedin_profile(linkedin_profile_url=\"example_string\", mock=True)\n",
    "\n",
    "output_new=chain_2.invoke(input={\"linkedin_information\": linkedin_information})\n",
    "\n",
    "print(output_new)\n",
    "print(\"-\"*100)\n",
    "print(output_new.content)"
   ]
  },
  {
   "cell_type": "code",
   "execution_count": 11,
   "metadata": {},
   "outputs": [],
   "source": [
    "from agents.linkedin_lookup_agent import lookup as linkedin_lookup_agent"
   ]
  },
  {
   "cell_type": "code",
   "execution_count": 19,
   "metadata": {},
   "outputs": [],
   "source": [
    "def ice_break_with(name: str) -> str: \n",
    "    linkedin_url=linkedin_lookup_agent(name=name)\n",
    "    linkedin_data=scrape_linkedin_profile(linkedin_profile_url=linkedin_url)\n",
    "\n",
    "    summary_template_new=\"\"\"\n",
    "    Given the Linkedin information: {linkedin_information} about a person, I want you to create: \n",
    "    1. a short summary \n",
    "    2. two interesting facts about them\n",
    "    \"\"\"\n",
    "\n",
    "    summary_prompt_template_new=PromptTemplate(\n",
    "    input_variables=[\"linkedin_information\"], \n",
    "    template=summary_template_new\n",
    "    )\n",
    "\n",
    "    llm_new=ChatOpenAI(model_name=\"gpt-3.5-turbo\", temperature=0)   \n",
    "\n",
    "    chain_2=summary_prompt_template_new | llm_new\n",
    "\n",
    "    output_new=chain_2.invoke(input={\"linkedin_information\": linkedin_data})\n",
    "\n",
    "    return(output_new)"
   ]
  },
  {
   "cell_type": "code",
   "execution_count": 20,
   "metadata": {},
   "outputs": [
    {
     "name": "stdout",
     "output_type": "stream",
     "text": [
      "Ice Breaker Enter\n",
      "\n",
      "\n",
      "\u001b[1m> Entering new AgentExecutor chain...\u001b[0m\n",
      "\u001b[32;1m\u001b[1;3mI should use the tool to crawl Google for the Linkedin profile page of Eden Marco.\n",
      "Action: Crawl Google for Linkedin Profile Page\n",
      "Action Input: Eden Marco\u001b[0m\u001b[36;1m\u001b[1;3mhttps://il.linkedin.com/in/eden-marco\u001b[0m\u001b[32;1m\u001b[1;3mI have found the Linkedin profile page for Eden Marco.\n",
      "Final Answer: https://il.linkedin.com/in/eden-marco\u001b[0m\n",
      "\n",
      "\u001b[1m> Finished chain.\u001b[0m\n",
      "content='1. Short Summary:\\nEden Marco is a Backend developer and a best-selling Udemy instructor currently working as an LLM Specialist in Customer Engineering at Google Cloud. With a background in Computer Science from Technion - Israel Institute of Technology, he has a strong passion for teaching and sharing his knowledge with others.\\n\\n2. Two Interesting Facts:\\n- Eden has produced and published 5 best-selling courses on Udemy, with over 65,000 enrolled students and a solid 4.7-star rating.\\n- Before his current role at Google, Eden served as a Captain in the Israel Defense Forces, showcasing his leadership skills and dedication to serving his country.' response_metadata={'token_usage': {'completion_tokens': 131, 'prompt_tokens': 3204, 'total_tokens': 3335}, 'model_name': 'gpt-3.5-turbo-0125', 'system_fingerprint': None, 'finish_reason': 'stop', 'logprobs': None} id='run-a41872e5-840d-4ddc-ac62-075e08ee4b22-0' usage_metadata={'input_tokens': 3204, 'output_tokens': 131, 'total_tokens': 3335}\n",
      "----------------------------------------------------------------------------------------------------\n",
      "1. Short Summary:\n",
      "Eden Marco is a Backend developer and a best-selling Udemy instructor currently working as an LLM Specialist in Customer Engineering at Google Cloud. With a background in Computer Science from Technion - Israel Institute of Technology, he has a strong passion for teaching and sharing his knowledge with others.\n",
      "\n",
      "2. Two Interesting Facts:\n",
      "- Eden has produced and published 5 best-selling courses on Udemy, with over 65,000 enrolled students and a solid 4.7-star rating.\n",
      "- Before his current role at Google, Eden served as a Captain in the Israel Defense Forces, showcasing his leadership skills and dedication to serving his country.\n"
     ]
    }
   ],
   "source": [
    "if __name__ == \"__main__\": \n",
    "    load_dotenv(find_dotenv(), override=True) \n",
    "    print(\"Ice Breaker Enter\") \n",
    "    output_2=ice_break_with(name=\"Eden Marco\") \n",
    "    print(output_2) \n",
    "    print(\"-\"*(100)) \n",
    "    print(output_2.content)"
   ]
  },
  {
   "cell_type": "code",
   "execution_count": 57,
   "metadata": {},
   "outputs": [],
   "source": [
    "from agents.twitter_lookup_agent import lookup_2 as twitter_lookup_agent \n",
    "from third_parties.twitter import scrape_user_tweets_no_duplicate_code"
   ]
  },
  {
   "cell_type": "code",
   "execution_count": 58,
   "metadata": {},
   "outputs": [],
   "source": [
    "def ice_break_with_2(name: str) -> str: \n",
    "    linkedin_url=linkedin_lookup_agent(name=name)\n",
    "    linkedin_data=scrape_linkedin_profile(linkedin_profile_url=linkedin_url)\n",
    "\n",
    "    twitter_username=twitter_lookup_agent(name=name)\n",
    "\n",
    "    tweets=scrape_user_tweets_no_duplicate_code(username=twitter_username, mock=True)\n",
    "\n",
    "    summary_template_new=\"\"\"\n",
    "    Given the Linkedin information: {linkedin_information} about a person, and their latest twitter posts {twitter_posts}, I want you to create: \n",
    "    1. a short summary \n",
    "    2. two interesting facts about them\n",
    "\n",
    "    Use both sources of information from Twitter and Linkedin\n",
    "    \"\"\"\n",
    "\n",
    "    summary_prompt_template_new=PromptTemplate(\n",
    "    input_variables=[\"linkedin_information\", \"twitter_posts\"], \n",
    "    template=summary_template_new\n",
    "    )\n",
    "\n",
    "    llm_new=ChatOpenAI(model_name=\"gpt-3.5-turbo\", temperature=0)   \n",
    "\n",
    "    chain_2=summary_prompt_template_new | llm_new\n",
    "\n",
    "    output_new=chain_2.invoke(input={\"linkedin_information\": linkedin_data, \"twitter_posts\": tweets})\n",
    "\n",
    "    return(output_new)"
   ]
  },
  {
   "cell_type": "code",
   "execution_count": 61,
   "metadata": {},
   "outputs": [
    {
     "name": "stdout",
     "output_type": "stream",
     "text": [
      "Ice Breaker Enter\n",
      "\n",
      "\n",
      "\u001b[1m> Entering new AgentExecutor chain...\u001b[0m\n",
      "\u001b[32;1m\u001b[1;3mI should use the tool to crawl Google for the Linkedin profile page of Eden Marco Udmey.\n",
      "Action: Crawl Google for Linkedin Profile Page\n",
      "Action Input: Eden Marco Udmey\u001b[0m\u001b[36;1m\u001b[1;3mhttps://www.udemy.com/user/eden-marco/\u001b[0m\u001b[32;1m\u001b[1;3mThe URL provided does not seem to be a Linkedin profile page. I should try again.\n",
      "Action: Crawl Google for Linkedin Profile Page\n",
      "Action Input: Eden Marco Udmey Linkedin\u001b[0m\u001b[36;1m\u001b[1;3mhttps://il.linkedin.com/in/eden-marco\u001b[0m\u001b[32;1m\u001b[1;3mI now know the final answer\n",
      "Final Answer: https://il.linkedin.com/in/eden-marco\u001b[0m\n",
      "\n",
      "\u001b[1m> Finished chain.\u001b[0m\n",
      "\n",
      "\n",
      "\u001b[1m> Entering new AgentExecutor chain...\u001b[0m\n",
      "\u001b[32;1m\u001b[1;3mI need to find the Twitter profile page of Eden Marco Udmey and extract their username.\n",
      "Action: Crawl Google for Twitter Profile Page\n",
      "Action Input: Eden Marco Udmey Twitter\u001b[0m\u001b[36;1m\u001b[1;3mhttps://twitter.com/EdenEmarco177/status/1670064667643740164\u001b[0m\u001b[32;1m\u001b[1;3mI need to extract the username from the Twitter profile page URL.\n",
      "Action: Extract username from URL\n",
      "Action Input: https://twitter.com/EdenEmarco177/status/1670064667643740164\u001b[0mExtract username from URL is not a valid tool, try one of [Crawl Google for Twitter Profile Page].\u001b[32;1m\u001b[1;3mI need to use the Crawl Google for Twitter Profile Page tool to extract the username.\n",
      "Action: Crawl Google for Twitter Profile Page\n",
      "Action Input: Eden Marco Udmey Twitter\u001b[0m\u001b[36;1m\u001b[1;3mhttps://mobile.twitter.com/EdenEmarco177/status/1670064667643740164\u001b[0m\u001b[32;1m\u001b[1;3mI need to extract the username \"EdenEmarco177\" from the Twitter profile page URL.\n",
      "Final Answer: EdenEmarco177\u001b[0m\n",
      "\n",
      "\u001b[1m> Finished chain.\u001b[0m\n",
      "content='1. Summary:\\nEden Emarco is a cybersecurity expert who recently showcased the risks of deploying insecure LLM agents to the cloud. They also work with the AI21Labs team to improve accuracy and reliability in contextual answers.\\n\\n2. Two interesting facts:\\n- Eden Emarco demonstrated the alarming consequences of deploying an LLM Agent without basic security measures, highlighting the importance of cybersecurity in cloud environments.\\n- They collaborate with the AI21Labs team to implement a model that ensures the LLM stays within the provided context, reducing hallucinations and enhancing accuracy in responses.' response_metadata={'token_usage': {'completion_tokens': 116, 'prompt_tokens': 322, 'total_tokens': 438}, 'model_name': 'gpt-3.5-turbo-0125', 'system_fingerprint': None, 'finish_reason': 'stop', 'logprobs': None} id='run-4af9399d-3f91-41a7-a48c-cfa7bb8b0f85-0' usage_metadata={'input_tokens': 322, 'output_tokens': 116, 'total_tokens': 438}\n",
      "----------------------------------------------------------------------------------------------------\n",
      "1. Summary:\n",
      "Eden Emarco is a cybersecurity expert who recently showcased the risks of deploying insecure LLM agents to the cloud. They also work with the AI21Labs team to improve accuracy and reliability in contextual answers.\n",
      "\n",
      "2. Two interesting facts:\n",
      "- Eden Emarco demonstrated the alarming consequences of deploying an LLM Agent without basic security measures, highlighting the importance of cybersecurity in cloud environments.\n",
      "- They collaborate with the AI21Labs team to implement a model that ensures the LLM stays within the provided context, reducing hallucinations and enhancing accuracy in responses.\n"
     ]
    }
   ],
   "source": [
    "if __name__ == \"__main__\": \n",
    "    load_dotenv(find_dotenv(), override=True) \n",
    "    print(\"Ice Breaker Enter\") \n",
    "    output_3=ice_break_with_2(name=\"Eden Marco Udmey\") \n",
    "    print(output_3) \n",
    "    print(\"-\"*(100)) \n",
    "    print(output_3.content)"
   ]
  }
 ],
 "metadata": {
  "kernelspec": {
   "display_name": "LangChain_Laptop_1_venv",
   "language": "python",
   "name": "python3"
  },
  "language_info": {
   "codemirror_mode": {
    "name": "ipython",
    "version": 3
   },
   "file_extension": ".py",
   "mimetype": "text/x-python",
   "name": "python",
   "nbconvert_exporter": "python",
   "pygments_lexer": "ipython3",
   "version": "3.9.19"
  }
 },
 "nbformat": 4,
 "nbformat_minor": 2
}
