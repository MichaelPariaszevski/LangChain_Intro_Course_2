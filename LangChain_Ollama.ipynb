{
 "cells": [
  {
   "cell_type": "markdown",
   "metadata": {},
   "source": [
    "### Using Ollama and the Llama3 Model Locally with an Output Parser instead of ChatOpenAI and GPT-3.5-Turbo"
   ]
  },
  {
   "cell_type": "code",
   "execution_count": 2,
   "metadata": {},
   "outputs": [
    {
     "name": "stdout",
     "output_type": "stream",
     "text": [
      "Hello!\n"
     ]
    }
   ],
   "source": [
    "import os\n",
    "from dotenv import load_dotenv, find_dotenv\n",
    "\n",
    "if __name__==\"__main__\": \n",
    "    print(\"Hello!\")\n",
    "    # load_dotenv(find_dotenv(), override=True)"
   ]
  },
  {
   "cell_type": "code",
   "execution_count": 3,
   "metadata": {},
   "outputs": [],
   "source": [
    "from langchain_community.chat_models import ChatOllama \n",
    "from langchain.prompts.prompt import PromptTemplate"
   ]
  },
  {
   "cell_type": "code",
   "execution_count": 4,
   "metadata": {},
   "outputs": [],
   "source": [
    "information=\"\"\"\n",
    "George Washington (February 22, 1732 – December 14, 1799) was an American Founding Father, military officer, and politician who served as the first president of the United States from 1789 to 1797. Appointed by the Second Continental Congress as commander of the Continental Army in 1775, Washington led Patriot forces to victory in the American Revolutionary War and then served as president of the Constitutional Convention in 1787, which drafted the current Constitution of the United States. Washington has thus become commonly known as the \"Father of his Country\".\n",
    "\n",
    "Washington's first public office, from 1749 to 1750, was as surveyor of Culpeper County in the Colony of Virginia. In 1752, he received military training and was granted the rank of major in the Virginia Regiment. During the French and Indian War, Washington was promoted to lieutenant colonel in 1754 and subsequently became head of the Virginia Regiment in 1755. He was later elected to the Virginia House of Burgesses and was named a delegate to the Continental Congress in Philadelphia, which appointed him commander-in-chief of the Continental Army. Washington led American forces to a decisive victory over the British in the Revolutionary War, leading the British to sign the Treaty of Paris, which acknowledged the sovereignty and independence of the United States. He resigned his commission in 1783 after the conclusion of the Revolutionary War.\n",
    "\n",
    "Washington played an indispensable role in adopting and ratifying the Constitution, which replaced the Articles of Confederation in 1789. He was then twice elected president unanimously by the Electoral College in 1788 and 1792. As the first U.S. president, Washington implemented a strong, well-financed national government while remaining impartial in a fierce rivalry that emerged between cabinet members Thomas Jefferson and Alexander Hamilton. During the French Revolution, he proclaimed a policy of neutrality while additionally sanctioning the Jay Treaty. He set enduring precedents for the office of president, including republicanism, a peaceful transfer of power, the use of the title \"Mr. President\", and the two-term tradition. His 1796 farewell address became a preeminent statement on republicanism in which he wrote about the importance of national unity and the dangers that regionalism, partisanship, and foreign influence pose to it.\n",
    "\n",
    "Washington's image is an icon of American culture. He has been memorialized by monuments, a federal holiday, various media depictions, geographical locations including the national capital, the State of Washington, stamps, and currency. In 1976, Washington was posthumously promoted to the rank of general of the Armies, the highest rank in the U.S. Army. Washington consistently ranks in both popular and scholarly polls as one of the greatest presidents in American history.\n",
    "\"\"\""
   ]
  },
  {
   "cell_type": "code",
   "execution_count": 6,
   "metadata": {},
   "outputs": [
    {
     "name": "stdout",
     "output_type": "stream",
     "text": [
      "content='Here are the requested items:\\n\\n**Short Summary:** George Washington was an American Founding Father who served as the first president of the United States from 1789 to 1797. He led the Continental Army to victory in the American Revolutionary War and played a key role in adopting and ratifying the Constitution.\\n\\n**Two Interesting Facts:**\\n\\n1. **Military Training**: At just 20 years old, Washington received military training and was granted the rank of major in the Virginia Regiment during the French and Indian War. This early experience laid the foundation for his later leadership roles.\\n2. **First President\\'s Precedents**: As the first U.S. president, Washington set several enduring precedents, including the peaceful transfer of power, the use of the title \"Mr. President\", and the two-term tradition. His 1796 farewell address also emphasized the importance of national unity and warned against regionalism, partisanship, and foreign influence.\\n\\nLet me know if you\\'d like me to add anything else!' response_metadata={'model': 'llama3', 'created_at': '2024-07-14T13:40:40.843886Z', 'message': {'role': 'assistant', 'content': ''}, 'done_reason': 'stop', 'done': True, 'total_duration': 203137687500, 'load_duration': 20368920700, 'prompt_eval_count': 600, 'prompt_eval_duration': 2952803000, 'eval_count': 204, 'eval_duration': 179802112000} id='run-13641b59-83fa-4e12-bf51-175e1d92d8fa-0'\n",
      "----------------------------------------------------------------------------------------------------\n",
      "Here are the requested items:\n",
      "\n",
      "**Short Summary:** George Washington was an American Founding Father who served as the first president of the United States from 1789 to 1797. He led the Continental Army to victory in the American Revolutionary War and played a key role in adopting and ratifying the Constitution.\n",
      "\n",
      "**Two Interesting Facts:**\n",
      "\n",
      "1. **Military Training**: At just 20 years old, Washington received military training and was granted the rank of major in the Virginia Regiment during the French and Indian War. This early experience laid the foundation for his later leadership roles.\n",
      "2. **First President's Precedents**: As the first U.S. president, Washington set several enduring precedents, including the peaceful transfer of power, the use of the title \"Mr. President\", and the two-term tradition. His 1796 farewell address also emphasized the importance of national unity and warned against regionalism, partisanship, and foreign influence.\n",
      "\n",
      "Let me know if you'd like me to add anything else!\n"
     ]
    }
   ],
   "source": [
    "# The new method/way of creating chains using Ollama and the llama3 model\n",
    "\n",
    "summary_template_new=\"\"\"\n",
    "Given the information: {information} about a person, I want you to create: \n",
    "1. a short summary \n",
    "2. two interesting facts about them\n",
    "\"\"\"\n",
    "\n",
    "summary_prompt_template_new=PromptTemplate(\n",
    "    input_variables=[\"information\"], \n",
    "    template=summary_template_new\n",
    "    )\n",
    "\n",
    "llm_new=ChatOllama(model=\"llama3\", temperature=0) \n",
    "\n",
    "chain_2=summary_prompt_template_new | llm_new\n",
    "\n",
    "output_new=chain_2.invoke(input={\"information\": information})\n",
    "\n",
    "print(output_new)\n",
    "print(\"-\"*100)\n",
    "print(output_new.content)"
   ]
  },
  {
   "cell_type": "markdown",
   "metadata": {},
   "source": [
    "### Using an Output Parser (String Output Parser)"
   ]
  },
  {
   "cell_type": "code",
   "execution_count": 7,
   "metadata": {},
   "outputs": [
    {
     "name": "stdout",
     "output_type": "stream",
     "text": [
      "Here are the requested items:\n",
      "\n",
      "**Short Summary:** George Washington was an American Founding Father who served as the first president of the United States from 1789 to 1797. He led the Continental Army to victory in the American Revolutionary War and played a key role in adopting and ratifying the Constitution.\n",
      "\n",
      "**Two Interesting Facts:**\n",
      "\n",
      "1. **Military Training**: At just 20 years old, Washington received military training and was granted the rank of major in the Virginia Regiment during the French and Indian War. He later became head of the Virginia Regiment in 1755.\n",
      "2. **First President's Precedents**: As the first U.S. president, Washington set enduring precedents for the office, including republicanism, a peaceful transfer of power, using the title \"Mr. President\", and the two-term tradition. His farewell address in 1796 became a preeminent statement on republicanism, emphasizing national unity and warning against regionalism, partisanship, and foreign influence.\n"
     ]
    }
   ],
   "source": [
    "from langchain_core.output_parsers import StrOutputParser\n",
    "\n",
    "chain_3=summary_prompt_template_new | llm_new | StrOutputParser()\n",
    "\n",
    "output_new_3=chain_3.invoke(input={\"information\": information}) \n",
    "\n",
    "print(output_new_3)"
   ]
  }
 ],
 "metadata": {
  "kernelspec": {
   "display_name": "LangChain_Laptop_1_venv",
   "language": "python",
   "name": "python3"
  },
  "language_info": {
   "codemirror_mode": {
    "name": "ipython",
    "version": 3
   },
   "file_extension": ".py",
   "mimetype": "text/x-python",
   "name": "python",
   "nbconvert_exporter": "python",
   "pygments_lexer": "ipython3",
   "version": "3.9.19"
  }
 },
 "nbformat": 4,
 "nbformat_minor": 2
}
