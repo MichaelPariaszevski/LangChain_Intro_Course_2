{
 "cells": [
  {
   "cell_type": "code",
   "execution_count": 3,
   "metadata": {},
   "outputs": [
    {
     "name": "stdout",
     "output_type": "stream",
     "text": [
      "Hello!\n",
      "sk-proj-cBDTEBcdEJoOeRvBnTD6T3BlbkFJGFlUrwXRqqMbC9bLUJzc\n"
     ]
    }
   ],
   "source": [
    "import os\n",
    "from dotenv import load_dotenv, find_dotenv\n",
    "\n",
    "if __name__==\"__main__\": \n",
    "    print(\"Hello!\")\n",
    "    load_dotenv(find_dotenv(), override=True)\n",
    "    print(os.environ[\"OPENAI_API_KEY\"])"
   ]
  },
  {
   "cell_type": "code",
   "execution_count": 4,
   "metadata": {},
   "outputs": [],
   "source": [
    "from langchain.prompts.prompt import PromptTemplate \n",
    "from langchain_openai import ChatOpenAI \n",
    "from langchain.chains import LLMChain"
   ]
  },
  {
   "cell_type": "code",
   "execution_count": 5,
   "metadata": {},
   "outputs": [],
   "source": [
    "information=\"\"\"\n",
    "George Washington (February 22, 1732 – December 14, 1799) was an American Founding Father, military officer, and politician who served as the first president of the United States from 1789 to 1797. Appointed by the Second Continental Congress as commander of the Continental Army in 1775, Washington led Patriot forces to victory in the American Revolutionary War and then served as president of the Constitutional Convention in 1787, which drafted the current Constitution of the United States. Washington has thus become commonly known as the \"Father of his Country\".\n",
    "\n",
    "Washington's first public office, from 1749 to 1750, was as surveyor of Culpeper County in the Colony of Virginia. In 1752, he received military training and was granted the rank of major in the Virginia Regiment. During the French and Indian War, Washington was promoted to lieutenant colonel in 1754 and subsequently became head of the Virginia Regiment in 1755. He was later elected to the Virginia House of Burgesses and was named a delegate to the Continental Congress in Philadelphia, which appointed him commander-in-chief of the Continental Army. Washington led American forces to a decisive victory over the British in the Revolutionary War, leading the British to sign the Treaty of Paris, which acknowledged the sovereignty and independence of the United States. He resigned his commission in 1783 after the conclusion of the Revolutionary War.\n",
    "\n",
    "Washington played an indispensable role in adopting and ratifying the Constitution, which replaced the Articles of Confederation in 1789. He was then twice elected president unanimously by the Electoral College in 1788 and 1792. As the first U.S. president, Washington implemented a strong, well-financed national government while remaining impartial in a fierce rivalry that emerged between cabinet members Thomas Jefferson and Alexander Hamilton. During the French Revolution, he proclaimed a policy of neutrality while additionally sanctioning the Jay Treaty. He set enduring precedents for the office of president, including republicanism, a peaceful transfer of power, the use of the title \"Mr. President\", and the two-term tradition. His 1796 farewell address became a preeminent statement on republicanism in which he wrote about the importance of national unity and the dangers that regionalism, partisanship, and foreign influence pose to it.\n",
    "\n",
    "Washington's image is an icon of American culture. He has been memorialized by monuments, a federal holiday, various media depictions, geographical locations including the national capital, the State of Washington, stamps, and currency. In 1976, Washington was posthumously promoted to the rank of general of the Armies, the highest rank in the U.S. Army. Washington consistently ranks in both popular and scholarly polls as one of the greatest presidents in American history.\n",
    "\"\"\""
   ]
  },
  {
   "cell_type": "code",
   "execution_count": 11,
   "metadata": {},
   "outputs": [
    {
     "name": "stdout",
     "output_type": "stream",
     "text": [
      "\n",
      "\n",
      "\u001b[1m> Entering new LLMChain chain...\u001b[0m\n",
      "Prompt after formatting:\n",
      "\u001b[32;1m\u001b[1;3m\n",
      "Given the information: \n",
      "George Washington (February 22, 1732 – December 14, 1799) was an American Founding Father, military officer, and politician who served as the first president of the United States from 1789 to 1797. Appointed by the Second Continental Congress as commander of the Continental Army in 1775, Washington led Patriot forces to victory in the American Revolutionary War and then served as president of the Constitutional Convention in 1787, which drafted the current Constitution of the United States. Washington has thus become commonly known as the \"Father of his Country\".\n",
      "\n",
      "Washington's first public office, from 1749 to 1750, was as surveyor of Culpeper County in the Colony of Virginia. In 1752, he received military training and was granted the rank of major in the Virginia Regiment. During the French and Indian War, Washington was promoted to lieutenant colonel in 1754 and subsequently became head of the Virginia Regiment in 1755. He was later elected to the Virginia House of Burgesses and was named a delegate to the Continental Congress in Philadelphia, which appointed him commander-in-chief of the Continental Army. Washington led American forces to a decisive victory over the British in the Revolutionary War, leading the British to sign the Treaty of Paris, which acknowledged the sovereignty and independence of the United States. He resigned his commission in 1783 after the conclusion of the Revolutionary War.\n",
      "\n",
      "Washington played an indispensable role in adopting and ratifying the Constitution, which replaced the Articles of Confederation in 1789. He was then twice elected president unanimously by the Electoral College in 1788 and 1792. As the first U.S. president, Washington implemented a strong, well-financed national government while remaining impartial in a fierce rivalry that emerged between cabinet members Thomas Jefferson and Alexander Hamilton. During the French Revolution, he proclaimed a policy of neutrality while additionally sanctioning the Jay Treaty. He set enduring precedents for the office of president, including republicanism, a peaceful transfer of power, the use of the title \"Mr. President\", and the two-term tradition. His 1796 farewell address became a preeminent statement on republicanism in which he wrote about the importance of national unity and the dangers that regionalism, partisanship, and foreign influence pose to it.\n",
      "\n",
      "Washington's image is an icon of American culture. He has been memorialized by monuments, a federal holiday, various media depictions, geographical locations including the national capital, the State of Washington, stamps, and currency. In 1976, Washington was posthumously promoted to the rank of general of the Armies, the highest rank in the U.S. Army. Washington consistently ranks in both popular and scholarly polls as one of the greatest presidents in American history.\n",
      " about a person, I want you to create: \n",
      "1. a short summary \n",
      "2. two interesting facts about them\n",
      "\u001b[0m\n",
      "\n",
      "\u001b[1m> Finished chain.\u001b[0m\n",
      "{'information': '\\nGeorge Washington (February 22, 1732 – December 14, 1799) was an American Founding Father, military officer, and politician who served as the first president of the United States from 1789 to 1797. Appointed by the Second Continental Congress as commander of the Continental Army in 1775, Washington led Patriot forces to victory in the American Revolutionary War and then served as president of the Constitutional Convention in 1787, which drafted the current Constitution of the United States. Washington has thus become commonly known as the \"Father of his Country\".\\n\\nWashington\\'s first public office, from 1749 to 1750, was as surveyor of Culpeper County in the Colony of Virginia. In 1752, he received military training and was granted the rank of major in the Virginia Regiment. During the French and Indian War, Washington was promoted to lieutenant colonel in 1754 and subsequently became head of the Virginia Regiment in 1755. He was later elected to the Virginia House of Burgesses and was named a delegate to the Continental Congress in Philadelphia, which appointed him commander-in-chief of the Continental Army. Washington led American forces to a decisive victory over the British in the Revolutionary War, leading the British to sign the Treaty of Paris, which acknowledged the sovereignty and independence of the United States. He resigned his commission in 1783 after the conclusion of the Revolutionary War.\\n\\nWashington played an indispensable role in adopting and ratifying the Constitution, which replaced the Articles of Confederation in 1789. He was then twice elected president unanimously by the Electoral College in 1788 and 1792. As the first U.S. president, Washington implemented a strong, well-financed national government while remaining impartial in a fierce rivalry that emerged between cabinet members Thomas Jefferson and Alexander Hamilton. During the French Revolution, he proclaimed a policy of neutrality while additionally sanctioning the Jay Treaty. He set enduring precedents for the office of president, including republicanism, a peaceful transfer of power, the use of the title \"Mr. President\", and the two-term tradition. His 1796 farewell address became a preeminent statement on republicanism in which he wrote about the importance of national unity and the dangers that regionalism, partisanship, and foreign influence pose to it.\\n\\nWashington\\'s image is an icon of American culture. He has been memorialized by monuments, a federal holiday, various media depictions, geographical locations including the national capital, the State of Washington, stamps, and currency. In 1976, Washington was posthumously promoted to the rank of general of the Armies, the highest rank in the U.S. Army. Washington consistently ranks in both popular and scholarly polls as one of the greatest presidents in American history.\\n', 'text': '1. George Washington was an American Founding Father, military officer, and politician who served as the first president of the United States from 1789 to 1797. He led Patriot forces to victory in the American Revolutionary War and played a key role in drafting the Constitution of the United States.\\n\\n2. Two interesting facts about George Washington:\\n- He was the only president in U.S. history to be elected unanimously by the Electoral College, receiving all electoral votes in both the 1788-1789 and 1792 elections.\\n- Washington is the only president to have never lived in Washington, D.C. during his presidency, as the city was still under construction at the time.'}\n",
      "----------------------------------------------------------------------------------------------------\n",
      "information\n",
      "text\n",
      "----------------------------------------------------------------------------------------------------\n",
      "1. George Washington was an American Founding Father, military officer, and politician who served as the first president of the United States from 1789 to 1797. He led Patriot forces to victory in the American Revolutionary War and played a key role in drafting the Constitution of the United States.\n",
      "\n",
      "2. Two interesting facts about George Washington:\n",
      "- He was the only president in U.S. history to be elected unanimously by the Electoral College, receiving all electoral votes in both the 1788-1789 and 1792 elections.\n",
      "- Washington is the only president to have never lived in Washington, D.C. during his presidency, as the city was still under construction at the time.\n"
     ]
    }
   ],
   "source": [
    "# The old method/way of creating chains\n",
    "\n",
    "summary_template=\"\"\"\n",
    "Given the information: {information} about a person, I want you to create: \n",
    "1. a short summary \n",
    "2. two interesting facts about them\n",
    "\"\"\"\n",
    "\n",
    "summary_prompt_template=PromptTemplate(input_variables=[\"information\"], template=summary_template) \n",
    "\n",
    "llm=ChatOpenAI(model_name=\"gpt-3.5-turbo\", temperature=0) \n",
    "\n",
    "chain=LLMChain(llm=llm, prompt=summary_prompt_template, verbose=True) \n",
    "\n",
    "output=chain.invoke({\"information\": information}) \n",
    "\n",
    "print(output)\n",
    "print(\"-\"*100)\n",
    "for key in output.keys(): \n",
    "    print(key)\n",
    "print(\"-\"*100) \n",
    "print(output[\"text\"])\n"
   ]
  },
  {
   "cell_type": "code",
   "execution_count": 8,
   "metadata": {},
   "outputs": [
    {
     "name": "stdout",
     "output_type": "stream",
     "text": [
      "content='1. George Washington was an American Founding Father, military officer, and politician who served as the first president of the United States from 1789 to 1797. He led Patriot forces to victory in the American Revolutionary War and played a key role in drafting the Constitution of the United States.\\n\\n2. Two interesting facts about George Washington:\\n- He was the only president in U.S. history to be elected unanimously by the Electoral College, receiving all electoral votes in both the 1788-1789 and 1792 elections.\\n- Washington is the only president to have never lived in Washington, D.C., as the capital was established after his presidency.' response_metadata={'token_usage': {'completion_tokens': 133, 'prompt_tokens': 598, 'total_tokens': 731}, 'model_name': 'gpt-3.5-turbo-0125', 'system_fingerprint': None, 'finish_reason': 'stop', 'logprobs': None} id='run-642f0de9-172f-4ac4-95ea-a5f2342eed8f-0' usage_metadata={'input_tokens': 598, 'output_tokens': 133, 'total_tokens': 731}\n",
      "----------------------------------------------------------------------------------------------------\n",
      "1. George Washington was an American Founding Father, military officer, and politician who served as the first president of the United States from 1789 to 1797. He led Patriot forces to victory in the American Revolutionary War and played a key role in drafting the Constitution of the United States.\n",
      "\n",
      "2. Two interesting facts about George Washington:\n",
      "- He was the only president in U.S. history to be elected unanimously by the Electoral College, receiving all electoral votes in both the 1788-1789 and 1792 elections.\n",
      "- Washington is the only president to have never lived in Washington, D.C., as the capital was established after his presidency.\n"
     ]
    }
   ],
   "source": [
    "# The new method/way of creating chains \n",
    "\n",
    "summary_template_new=\"\"\"\n",
    "Given the information: {information} about a person, I want you to create: \n",
    "1. a short summary \n",
    "2. two interesting facts about them\n",
    "\"\"\"\n",
    "\n",
    "summary_prompt_template_new=PromptTemplate(\n",
    "    input_variables=[\"information\"], \n",
    "    template=summary_template_new\n",
    "    )\n",
    "\n",
    "llm_new=ChatOpenAI(model_name=\"gpt-3.5-turbo\", temperature=0) \n",
    "\n",
    "chain_2=summary_prompt_template_new | llm_new\n",
    "\n",
    "output_new=chain_2.invoke(input={\"information\": information})\n",
    "\n",
    "print(output_new)\n",
    "print(\"-\"*100)\n",
    "print(output_new.content)"
   ]
  }
 ],
 "metadata": {
  "kernelspec": {
   "display_name": "LangChain_Course_2_venv",
   "language": "python",
   "name": "python3"
  },
  "language_info": {
   "codemirror_mode": {
    "name": "ipython",
    "version": 3
   },
   "file_extension": ".py",
   "mimetype": "text/x-python",
   "name": "python",
   "nbconvert_exporter": "python",
   "pygments_lexer": "ipython3",
   "version": "3.9.19"
  }
 },
 "nbformat": 4,
 "nbformat_minor": 2
}
